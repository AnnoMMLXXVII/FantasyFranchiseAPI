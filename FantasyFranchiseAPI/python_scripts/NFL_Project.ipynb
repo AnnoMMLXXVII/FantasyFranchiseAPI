{
 "cells": [
  {
   "cell_type": "code",
   "execution_count": 1,
   "metadata": {
    "collapsed": true
   },
   "outputs": [],
   "source": [
    "import sys\n",
    "import pandas as pd"
   ]
  },
  {
   "cell_type": "code",
   "execution_count": 2,
   "outputs": [
    {
     "data": {
      "text/plain": "       nflId height  weight   birthDate      collegeName position displayName\n347  2541162     72     191  1991-08-16  Central Florida       CB  A.J. Bouye\n218  2552580    6-5     240  09/20/1991         Arkansas       TE  A.J. Derby\n163  2495450     76     210  1988-07-31          Georgia       WR  A.J. Green\n317  2539982     73     240  1991-07-30       Iowa State      OLB  A.J. Klein\n714  2561538     71     202  1995-12-15      Mississippi       DB  A.J. Moore",
      "text/html": "<div>\n<style scoped>\n    .dataframe tbody tr th:only-of-type {\n        vertical-align: middle;\n    }\n\n    .dataframe tbody tr th {\n        vertical-align: top;\n    }\n\n    .dataframe thead th {\n        text-align: right;\n    }\n</style>\n<table border=\"1\" class=\"dataframe\">\n  <thead>\n    <tr style=\"text-align: right;\">\n      <th></th>\n      <th>nflId</th>\n      <th>height</th>\n      <th>weight</th>\n      <th>birthDate</th>\n      <th>collegeName</th>\n      <th>position</th>\n      <th>displayName</th>\n    </tr>\n  </thead>\n  <tbody>\n    <tr>\n      <th>347</th>\n      <td>2541162</td>\n      <td>72</td>\n      <td>191</td>\n      <td>1991-08-16</td>\n      <td>Central Florida</td>\n      <td>CB</td>\n      <td>A.J. Bouye</td>\n    </tr>\n    <tr>\n      <th>218</th>\n      <td>2552580</td>\n      <td>6-5</td>\n      <td>240</td>\n      <td>09/20/1991</td>\n      <td>Arkansas</td>\n      <td>TE</td>\n      <td>A.J. Derby</td>\n    </tr>\n    <tr>\n      <th>163</th>\n      <td>2495450</td>\n      <td>76</td>\n      <td>210</td>\n      <td>1988-07-31</td>\n      <td>Georgia</td>\n      <td>WR</td>\n      <td>A.J. Green</td>\n    </tr>\n    <tr>\n      <th>317</th>\n      <td>2539982</td>\n      <td>73</td>\n      <td>240</td>\n      <td>1991-07-30</td>\n      <td>Iowa State</td>\n      <td>OLB</td>\n      <td>A.J. Klein</td>\n    </tr>\n    <tr>\n      <th>714</th>\n      <td>2561538</td>\n      <td>71</td>\n      <td>202</td>\n      <td>1995-12-15</td>\n      <td>Mississippi</td>\n      <td>DB</td>\n      <td>A.J. Moore</td>\n    </tr>\n  </tbody>\n</table>\n</div>"
     },
     "execution_count": 2,
     "metadata": {},
     "output_type": "execute_result"
    }
   ],
   "source": [
    "df = pd.read_csv('players.csv')\n",
    "df.sort_values(by=['displayName'], inplace=True)\n",
    "df.head()"
   ],
   "metadata": {
    "collapsed": false,
    "pycharm": {
     "name": "#%%\n"
    }
   }
  },
  {
   "cell_type": "code",
   "execution_count": 3,
   "outputs": [
    {
     "data": {
      "text/plain": "Brandon Williams    2\nIsaiah Johnson      2\nMichael Thomas      2\nMarcus Williams     2\nBrandon Marshall    2\n                   ..\nEddie Pleasant      1\nEddie Jackson       1\nEddie Goldman       1\nEd Dickson          1\nZeke Turner         1\nName: displayName, Length: 1298, dtype: int64"
     },
     "execution_count": 3,
     "metadata": {},
     "output_type": "execute_result"
    }
   ],
   "source": [
    "df['displayName'].value_counts()"
   ],
   "metadata": {
    "collapsed": false,
    "pycharm": {
     "name": "#%%\n"
    }
   }
  },
  {
   "cell_type": "code",
   "execution_count": 4,
   "outputs": [
    {
     "data": {
      "text/plain": "        nflId height  weight   birthDate         collegeName position  \\\n347   2541162     72     191  1991-08-16     Central Florida       CB   \n218   2552580    6-5     240  09/20/1991            Arkansas       TE   \n163   2495450     76     210  1988-07-31             Georgia       WR   \n317   2539982     73     240  1991-07-30          Iowa State      OLB   \n714   2561538     71     202  1995-12-15         Mississippi       DB   \n...       ...    ...     ...         ...                 ...      ...   \n932   2556931     75     255  1993-01-10  Southern Methodist       LS   \n1129  2553631   5-11     224  09/13/1991        South Dakota       RB   \n182   2561155     72     236  1996-07-02            Syracuse      ILB   \n50    2557863     74     200  1995-03-30       East Carolina       WR   \n1234  2561283     74     214  1996-06-09          Washington       LB   \n\n         displayName  \n347       A.J. Bouye  \n218       A.J. Derby  \n163       A.J. Green  \n317       A.J. Klein  \n714       A.J. Moore  \n...              ...  \n932        Zach Wood  \n1129     Zach Zenner  \n182   Zaire Franklin  \n50         Zay Jones  \n1234     Zeke Turner  \n\n[1303 rows x 7 columns]",
      "text/html": "<div>\n<style scoped>\n    .dataframe tbody tr th:only-of-type {\n        vertical-align: middle;\n    }\n\n    .dataframe tbody tr th {\n        vertical-align: top;\n    }\n\n    .dataframe thead th {\n        text-align: right;\n    }\n</style>\n<table border=\"1\" class=\"dataframe\">\n  <thead>\n    <tr style=\"text-align: right;\">\n      <th></th>\n      <th>nflId</th>\n      <th>height</th>\n      <th>weight</th>\n      <th>birthDate</th>\n      <th>collegeName</th>\n      <th>position</th>\n      <th>displayName</th>\n    </tr>\n  </thead>\n  <tbody>\n    <tr>\n      <th>347</th>\n      <td>2541162</td>\n      <td>72</td>\n      <td>191</td>\n      <td>1991-08-16</td>\n      <td>Central Florida</td>\n      <td>CB</td>\n      <td>A.J. Bouye</td>\n    </tr>\n    <tr>\n      <th>218</th>\n      <td>2552580</td>\n      <td>6-5</td>\n      <td>240</td>\n      <td>09/20/1991</td>\n      <td>Arkansas</td>\n      <td>TE</td>\n      <td>A.J. Derby</td>\n    </tr>\n    <tr>\n      <th>163</th>\n      <td>2495450</td>\n      <td>76</td>\n      <td>210</td>\n      <td>1988-07-31</td>\n      <td>Georgia</td>\n      <td>WR</td>\n      <td>A.J. Green</td>\n    </tr>\n    <tr>\n      <th>317</th>\n      <td>2539982</td>\n      <td>73</td>\n      <td>240</td>\n      <td>1991-07-30</td>\n      <td>Iowa State</td>\n      <td>OLB</td>\n      <td>A.J. Klein</td>\n    </tr>\n    <tr>\n      <th>714</th>\n      <td>2561538</td>\n      <td>71</td>\n      <td>202</td>\n      <td>1995-12-15</td>\n      <td>Mississippi</td>\n      <td>DB</td>\n      <td>A.J. Moore</td>\n    </tr>\n    <tr>\n      <th>...</th>\n      <td>...</td>\n      <td>...</td>\n      <td>...</td>\n      <td>...</td>\n      <td>...</td>\n      <td>...</td>\n      <td>...</td>\n    </tr>\n    <tr>\n      <th>932</th>\n      <td>2556931</td>\n      <td>75</td>\n      <td>255</td>\n      <td>1993-01-10</td>\n      <td>Southern Methodist</td>\n      <td>LS</td>\n      <td>Zach Wood</td>\n    </tr>\n    <tr>\n      <th>1129</th>\n      <td>2553631</td>\n      <td>5-11</td>\n      <td>224</td>\n      <td>09/13/1991</td>\n      <td>South Dakota</td>\n      <td>RB</td>\n      <td>Zach Zenner</td>\n    </tr>\n    <tr>\n      <th>182</th>\n      <td>2561155</td>\n      <td>72</td>\n      <td>236</td>\n      <td>1996-07-02</td>\n      <td>Syracuse</td>\n      <td>ILB</td>\n      <td>Zaire Franklin</td>\n    </tr>\n    <tr>\n      <th>50</th>\n      <td>2557863</td>\n      <td>74</td>\n      <td>200</td>\n      <td>1995-03-30</td>\n      <td>East Carolina</td>\n      <td>WR</td>\n      <td>Zay Jones</td>\n    </tr>\n    <tr>\n      <th>1234</th>\n      <td>2561283</td>\n      <td>74</td>\n      <td>214</td>\n      <td>1996-06-09</td>\n      <td>Washington</td>\n      <td>LB</td>\n      <td>Zeke Turner</td>\n    </tr>\n  </tbody>\n</table>\n<p>1303 rows × 7 columns</p>\n</div>"
     },
     "execution_count": 4,
     "metadata": {},
     "output_type": "execute_result"
    }
   ],
   "source": [
    "df.dropna()"
   ],
   "metadata": {
    "collapsed": false,
    "pycharm": {
     "name": "#%%\n"
    }
   }
  },
  {
   "cell_type": "code",
   "execution_count": 5,
   "outputs": [
    {
     "data": {
      "text/plain": "   index    nflId height  weight   birthDate      collegeName position  \\\n0    347  2541162     72     191  1991-08-16  Central Florida       CB   \n1    218  2552580    6-5     240  09/20/1991         Arkansas       TE   \n2    163  2495450     76     210  1988-07-31          Georgia       WR   \n3    317  2539982     73     240  1991-07-30       Iowa State      OLB   \n4    714  2561538     71     202  1995-12-15      Mississippi       DB   \n\n  displayName  \n0  A.J. Bouye  \n1  A.J. Derby  \n2  A.J. Green  \n3  A.J. Klein  \n4  A.J. Moore  ",
      "text/html": "<div>\n<style scoped>\n    .dataframe tbody tr th:only-of-type {\n        vertical-align: middle;\n    }\n\n    .dataframe tbody tr th {\n        vertical-align: top;\n    }\n\n    .dataframe thead th {\n        text-align: right;\n    }\n</style>\n<table border=\"1\" class=\"dataframe\">\n  <thead>\n    <tr style=\"text-align: right;\">\n      <th></th>\n      <th>index</th>\n      <th>nflId</th>\n      <th>height</th>\n      <th>weight</th>\n      <th>birthDate</th>\n      <th>collegeName</th>\n      <th>position</th>\n      <th>displayName</th>\n    </tr>\n  </thead>\n  <tbody>\n    <tr>\n      <th>0</th>\n      <td>347</td>\n      <td>2541162</td>\n      <td>72</td>\n      <td>191</td>\n      <td>1991-08-16</td>\n      <td>Central Florida</td>\n      <td>CB</td>\n      <td>A.J. Bouye</td>\n    </tr>\n    <tr>\n      <th>1</th>\n      <td>218</td>\n      <td>2552580</td>\n      <td>6-5</td>\n      <td>240</td>\n      <td>09/20/1991</td>\n      <td>Arkansas</td>\n      <td>TE</td>\n      <td>A.J. Derby</td>\n    </tr>\n    <tr>\n      <th>2</th>\n      <td>163</td>\n      <td>2495450</td>\n      <td>76</td>\n      <td>210</td>\n      <td>1988-07-31</td>\n      <td>Georgia</td>\n      <td>WR</td>\n      <td>A.J. Green</td>\n    </tr>\n    <tr>\n      <th>3</th>\n      <td>317</td>\n      <td>2539982</td>\n      <td>73</td>\n      <td>240</td>\n      <td>1991-07-30</td>\n      <td>Iowa State</td>\n      <td>OLB</td>\n      <td>A.J. Klein</td>\n    </tr>\n    <tr>\n      <th>4</th>\n      <td>714</td>\n      <td>2561538</td>\n      <td>71</td>\n      <td>202</td>\n      <td>1995-12-15</td>\n      <td>Mississippi</td>\n      <td>DB</td>\n      <td>A.J. Moore</td>\n    </tr>\n  </tbody>\n</table>\n</div>"
     },
     "execution_count": 5,
     "metadata": {},
     "output_type": "execute_result"
    }
   ],
   "source": [
    "df.reset_index(inplace = True)\n",
    "df.head()"
   ],
   "metadata": {
    "collapsed": false,
    "pycharm": {
     "name": "#%%\n"
    }
   }
  },
  {
   "cell_type": "code",
   "execution_count": 6,
   "outputs": [],
   "source": [
    "for i in range(1303):\n",
    "    df.at[i,'index']=i"
   ],
   "metadata": {
    "collapsed": false,
    "pycharm": {
     "name": "#%%\n"
    }
   }
  },
  {
   "cell_type": "code",
   "execution_count": 7,
   "outputs": [
    {
     "data": {
      "text/plain": "   index    nflId height  weight   birthDate      collegeName position  \\\n0      0  2541162     72     191  1991-08-16  Central Florida       CB   \n1      1  2552580    6-5     240  09/20/1991         Arkansas       TE   \n2      2  2495450     76     210  1988-07-31          Georgia       WR   \n3      3  2539982     73     240  1991-07-30       Iowa State      OLB   \n4      4  2561538     71     202  1995-12-15      Mississippi       DB   \n\n  displayName  \n0  A.J. Bouye  \n1  A.J. Derby  \n2  A.J. Green  \n3  A.J. Klein  \n4  A.J. Moore  ",
      "text/html": "<div>\n<style scoped>\n    .dataframe tbody tr th:only-of-type {\n        vertical-align: middle;\n    }\n\n    .dataframe tbody tr th {\n        vertical-align: top;\n    }\n\n    .dataframe thead th {\n        text-align: right;\n    }\n</style>\n<table border=\"1\" class=\"dataframe\">\n  <thead>\n    <tr style=\"text-align: right;\">\n      <th></th>\n      <th>index</th>\n      <th>nflId</th>\n      <th>height</th>\n      <th>weight</th>\n      <th>birthDate</th>\n      <th>collegeName</th>\n      <th>position</th>\n      <th>displayName</th>\n    </tr>\n  </thead>\n  <tbody>\n    <tr>\n      <th>0</th>\n      <td>0</td>\n      <td>2541162</td>\n      <td>72</td>\n      <td>191</td>\n      <td>1991-08-16</td>\n      <td>Central Florida</td>\n      <td>CB</td>\n      <td>A.J. Bouye</td>\n    </tr>\n    <tr>\n      <th>1</th>\n      <td>1</td>\n      <td>2552580</td>\n      <td>6-5</td>\n      <td>240</td>\n      <td>09/20/1991</td>\n      <td>Arkansas</td>\n      <td>TE</td>\n      <td>A.J. Derby</td>\n    </tr>\n    <tr>\n      <th>2</th>\n      <td>2</td>\n      <td>2495450</td>\n      <td>76</td>\n      <td>210</td>\n      <td>1988-07-31</td>\n      <td>Georgia</td>\n      <td>WR</td>\n      <td>A.J. Green</td>\n    </tr>\n    <tr>\n      <th>3</th>\n      <td>3</td>\n      <td>2539982</td>\n      <td>73</td>\n      <td>240</td>\n      <td>1991-07-30</td>\n      <td>Iowa State</td>\n      <td>OLB</td>\n      <td>A.J. Klein</td>\n    </tr>\n    <tr>\n      <th>4</th>\n      <td>4</td>\n      <td>2561538</td>\n      <td>71</td>\n      <td>202</td>\n      <td>1995-12-15</td>\n      <td>Mississippi</td>\n      <td>DB</td>\n      <td>A.J. Moore</td>\n    </tr>\n  </tbody>\n</table>\n</div>"
     },
     "execution_count": 7,
     "metadata": {},
     "output_type": "execute_result"
    }
   ],
   "source": [
    "df.head()"
   ],
   "metadata": {
    "collapsed": false,
    "pycharm": {
     "name": "#%%\n"
    }
   }
  },
  {
   "cell_type": "code",
   "execution_count": 8,
   "outputs": [],
   "source": [
    "df.drop('nflId', axis=1, inplace=True)"
   ],
   "metadata": {
    "collapsed": false,
    "pycharm": {
     "name": "#%%\n"
    }
   }
  },
  {
   "cell_type": "code",
   "execution_count": 9,
   "outputs": [
    {
     "data": {
      "text/plain": "   index height  weight   birthDate      collegeName position displayName\n0      0     72     191  1991-08-16  Central Florida       CB  A.J. Bouye\n1      1    6-5     240  09/20/1991         Arkansas       TE  A.J. Derby\n2      2     76     210  1988-07-31          Georgia       WR  A.J. Green\n3      3     73     240  1991-07-30       Iowa State      OLB  A.J. Klein\n4      4     71     202  1995-12-15      Mississippi       DB  A.J. Moore",
      "text/html": "<div>\n<style scoped>\n    .dataframe tbody tr th:only-of-type {\n        vertical-align: middle;\n    }\n\n    .dataframe tbody tr th {\n        vertical-align: top;\n    }\n\n    .dataframe thead th {\n        text-align: right;\n    }\n</style>\n<table border=\"1\" class=\"dataframe\">\n  <thead>\n    <tr style=\"text-align: right;\">\n      <th></th>\n      <th>index</th>\n      <th>height</th>\n      <th>weight</th>\n      <th>birthDate</th>\n      <th>collegeName</th>\n      <th>position</th>\n      <th>displayName</th>\n    </tr>\n  </thead>\n  <tbody>\n    <tr>\n      <th>0</th>\n      <td>0</td>\n      <td>72</td>\n      <td>191</td>\n      <td>1991-08-16</td>\n      <td>Central Florida</td>\n      <td>CB</td>\n      <td>A.J. Bouye</td>\n    </tr>\n    <tr>\n      <th>1</th>\n      <td>1</td>\n      <td>6-5</td>\n      <td>240</td>\n      <td>09/20/1991</td>\n      <td>Arkansas</td>\n      <td>TE</td>\n      <td>A.J. Derby</td>\n    </tr>\n    <tr>\n      <th>2</th>\n      <td>2</td>\n      <td>76</td>\n      <td>210</td>\n      <td>1988-07-31</td>\n      <td>Georgia</td>\n      <td>WR</td>\n      <td>A.J. Green</td>\n    </tr>\n    <tr>\n      <th>3</th>\n      <td>3</td>\n      <td>73</td>\n      <td>240</td>\n      <td>1991-07-30</td>\n      <td>Iowa State</td>\n      <td>OLB</td>\n      <td>A.J. Klein</td>\n    </tr>\n    <tr>\n      <th>4</th>\n      <td>4</td>\n      <td>71</td>\n      <td>202</td>\n      <td>1995-12-15</td>\n      <td>Mississippi</td>\n      <td>DB</td>\n      <td>A.J. Moore</td>\n    </tr>\n  </tbody>\n</table>\n</div>"
     },
     "execution_count": 9,
     "metadata": {},
     "output_type": "execute_result"
    }
   ],
   "source": [
    "df.head()"
   ],
   "metadata": {
    "collapsed": false,
    "pycharm": {
     "name": "#%%\n"
    }
   }
  },
  {
   "cell_type": "code",
   "execution_count": 10,
   "outputs": [],
   "source": [
    "df.to_csv('playersUpdated.csv')"
   ],
   "metadata": {
    "collapsed": false,
    "pycharm": {
     "name": "#%%\n"
    }
   }
  },
  {
   "cell_type": "code",
   "execution_count": 11,
   "outputs": [
    {
     "data": {
      "text/plain": "0          0\n1          1\n2          2\n3          3\n4          4\n        ... \n1298    1298\n1299    1299\n1300    1300\n1301    1301\n1302    1302\nName: index, Length: 1303, dtype: int64"
     },
     "execution_count": 11,
     "metadata": {},
     "output_type": "execute_result"
    }
   ],
   "source": [
    "df[\"index\"]"
   ],
   "metadata": {
    "collapsed": false,
    "pycharm": {
     "name": "#%%\n"
    }
   }
  },
  {
   "cell_type": "code",
   "execution_count": 11,
   "outputs": [],
   "source": [],
   "metadata": {
    "collapsed": false,
    "pycharm": {
     "name": "#%%\n"
    }
   }
  }
 ],
 "metadata": {
  "kernelspec": {
   "display_name": "Python 3",
   "language": "python",
   "name": "python3"
  },
  "language_info": {
   "codemirror_mode": {
    "name": "ipython",
    "version": 2
   },
   "file_extension": ".py",
   "mimetype": "text/x-python",
   "name": "python",
   "nbconvert_exporter": "python",
   "pygments_lexer": "ipython2",
   "version": "2.7.6"
  }
 },
 "nbformat": 4,
 "nbformat_minor": 0
}