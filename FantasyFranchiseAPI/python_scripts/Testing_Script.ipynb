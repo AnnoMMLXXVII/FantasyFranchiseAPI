{
 "cells": [
  {
   "cell_type": "code",
   "execution_count": 1,
   "metadata": {
    "collapsed": true
   },
   "outputs": [],
   "source": [
    "import pandas"
   ]
  },
  {
   "cell_type": "code",
   "execution_count": 2,
   "outputs": [],
   "source": [
    "df = pandas.read_csv(\"playersUpdated.csv\")"
   ],
   "metadata": {
    "collapsed": false,
    "pycharm": {
     "name": "#%%\n"
    }
   }
  },
  {
   "cell_type": "code",
   "execution_count": 3,
   "outputs": [
    {
     "data": {
      "text/plain": "   Unnamed: 0  index height  weight   birthDate      collegeName position  \\\n0           0      0     72     191  1991-08-16  Central Florida       CB   \n1           1      1    6-5     240  09/20/1991         Arkansas       TE   \n2           2      2     76     210  1988-07-31          Georgia       WR   \n3           3      3     73     240  1991-07-30       Iowa State      OLB   \n4           4      4     71     202  1995-12-15      Mississippi       DB   \n\n  displayName  \n0  A.J. Bouye  \n1  A.J. Derby  \n2  A.J. Green  \n3  A.J. Klein  \n4  A.J. Moore  ",
      "text/html": "<div>\n<style scoped>\n    .dataframe tbody tr th:only-of-type {\n        vertical-align: middle;\n    }\n\n    .dataframe tbody tr th {\n        vertical-align: top;\n    }\n\n    .dataframe thead th {\n        text-align: right;\n    }\n</style>\n<table border=\"1\" class=\"dataframe\">\n  <thead>\n    <tr style=\"text-align: right;\">\n      <th></th>\n      <th>Unnamed: 0</th>\n      <th>index</th>\n      <th>height</th>\n      <th>weight</th>\n      <th>birthDate</th>\n      <th>collegeName</th>\n      <th>position</th>\n      <th>displayName</th>\n    </tr>\n  </thead>\n  <tbody>\n    <tr>\n      <th>0</th>\n      <td>0</td>\n      <td>0</td>\n      <td>72</td>\n      <td>191</td>\n      <td>1991-08-16</td>\n      <td>Central Florida</td>\n      <td>CB</td>\n      <td>A.J. Bouye</td>\n    </tr>\n    <tr>\n      <th>1</th>\n      <td>1</td>\n      <td>1</td>\n      <td>6-5</td>\n      <td>240</td>\n      <td>09/20/1991</td>\n      <td>Arkansas</td>\n      <td>TE</td>\n      <td>A.J. Derby</td>\n    </tr>\n    <tr>\n      <th>2</th>\n      <td>2</td>\n      <td>2</td>\n      <td>76</td>\n      <td>210</td>\n      <td>1988-07-31</td>\n      <td>Georgia</td>\n      <td>WR</td>\n      <td>A.J. Green</td>\n    </tr>\n    <tr>\n      <th>3</th>\n      <td>3</td>\n      <td>3</td>\n      <td>73</td>\n      <td>240</td>\n      <td>1991-07-30</td>\n      <td>Iowa State</td>\n      <td>OLB</td>\n      <td>A.J. Klein</td>\n    </tr>\n    <tr>\n      <th>4</th>\n      <td>4</td>\n      <td>4</td>\n      <td>71</td>\n      <td>202</td>\n      <td>1995-12-15</td>\n      <td>Mississippi</td>\n      <td>DB</td>\n      <td>A.J. Moore</td>\n    </tr>\n  </tbody>\n</table>\n</div>"
     },
     "execution_count": 3,
     "metadata": {},
     "output_type": "execute_result"
    }
   ],
   "source": [
    "df.head()"
   ],
   "metadata": {
    "collapsed": false,
    "pycharm": {
     "name": "#%%\n"
    }
   }
  }
 ],
 "metadata": {
  "kernelspec": {
   "display_name": "Python 3",
   "language": "python",
   "name": "python3"
  },
  "language_info": {
   "codemirror_mode": {
    "name": "ipython",
    "version": 2
   },
   "file_extension": ".py",
   "mimetype": "text/x-python",
   "name": "python",
   "nbconvert_exporter": "python",
   "pygments_lexer": "ipython2",
   "version": "2.7.6"
  }
 },
 "nbformat": 4,
 "nbformat_minor": 0
}